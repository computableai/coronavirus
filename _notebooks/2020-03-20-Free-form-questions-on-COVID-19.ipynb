{
 "cells": [
  {
   "cell_type": "markdown",
   "metadata": {},
   "source": [
    "# Free form questioning on COVID-19 dataset \n",
    "\n",
    ">We will use universal sentence encoder to encode text from COVID-19 dataset and use to answer queries\n",
    "\n",
    "- Based on the paper at: https://arxiv.org/abs/1803.11175\n",
    "\n",
    "- Dataset available at: https://pages.semanticscholar.org/coronavirus-research\n",
    "\n",
    "- By Dattaraj J Rao (Persistent Systems) - https://www.linkedin.com/in/dattarajrao"
   ]
  },
  {
   "cell_type": "markdown",
   "metadata": {},
   "source": [
    "## We will use the Sentence Transformers library\n",
    "\n",
    "Approach is to encode relevant text corpus from COVID-19 dataset and then match the question embedding with this to fiond top 3 matching answers."
   ]
  },
  {
   "cell_type": "code",
   "execution_count": 14,
   "metadata": {
    "_cell_guid": "b1076dfc-b9ad-4769-8c92-a6c4dae69d19",
    "_uuid": "8f2839f25d086af736a60e9eeb907d3b93b6e0e5"
   },
   "outputs": [
    {
     "name": "stdout",
     "output_type": "stream",
     "text": [
      "Collecting nbinteract\n",
      "  Downloading https://files.pythonhosted.org/packages/92/92/0047f909ccae3ca35c45007b4015d89ed17b226bb1a0ef38d5c5f0aee9bf/nbinteract-0.2.5-py3-none-any.whl\n",
      "Requirement already satisfied: IPython<8,>=6 in /home/hiromi.suenaga/.conda/envs/fastai2/lib/python3.7/site-packages (from nbinteract) (7.10.2)\n",
      "Requirement already satisfied: nbconvert<6,>=5.3 in /home/hiromi.suenaga/.conda/envs/fastai2/lib/python3.7/site-packages (from nbinteract) (5.6.1)\n",
      "Requirement already satisfied: traitlets<5,>=4.3 in /home/hiromi.suenaga/.conda/envs/fastai2/lib/python3.7/site-packages (from nbinteract) (4.3.3)\n",
      "Collecting toolz<1,>=0.8\n",
      "\u001b[?25l  Downloading https://files.pythonhosted.org/packages/22/8e/037b9ba5c6a5739ef0dcde60578c64d49f45f64c5e5e886531bfbc39157f/toolz-0.10.0.tar.gz (49kB)\n",
      "\u001b[K     |████████████████████████████████| 51kB 13.0MB/s eta 0:00:01\n",
      "\u001b[?25hCollecting bqplot==0.11.0\n",
      "\u001b[?25l  Downloading https://files.pythonhosted.org/packages/ba/bd/d897493e196f14e2939b132c1d2adf966a327df2ae6716a1b665075f338b/bqplot-0.11.0-py2.py3-none-any.whl (1.5MB)\n",
      "\u001b[K     |████████████████████████████████| 1.5MB 15.8MB/s eta 0:00:01\n",
      "\u001b[?25hRequirement already satisfied: ipywidgets<8,>=7.5.0 in /home/hiromi.suenaga/.conda/envs/fastai2/lib/python3.7/site-packages (from nbinteract) (7.5.1)\n",
      "Processing /home/hiromi.suenaga/.cache/pip/wheels/9b/04/dd/7daf4150b6d9b12949298737de9431a324d4b797ffd63f526e/docopt-0.6.2-py2.py3-none-any.whl\n",
      "Requirement already satisfied: numpy<2,>=1 in /home/hiromi.suenaga/.conda/envs/fastai2/lib/python3.7/site-packages (from nbinteract) (1.17.4)\n",
      "Requirement already satisfied: nbformat<5,>=4.4.0 in /home/hiromi.suenaga/.conda/envs/fastai2/lib/python3.7/site-packages (from nbinteract) (4.4.0)\n",
      "Requirement already satisfied: Jinja2<3,>=2.10 in /home/hiromi.suenaga/.conda/envs/fastai2/lib/python3.7/site-packages (from nbinteract) (2.10.3)\n",
      "Requirement already satisfied: backcall in /home/hiromi.suenaga/.conda/envs/fastai2/lib/python3.7/site-packages (from IPython<8,>=6->nbinteract) (0.1.0)\n",
      "Requirement already satisfied: jedi>=0.10 in /home/hiromi.suenaga/.conda/envs/fastai2/lib/python3.7/site-packages (from IPython<8,>=6->nbinteract) (0.15.1)\n",
      "Requirement already satisfied: setuptools>=18.5 in /home/hiromi.suenaga/.conda/envs/fastai2/lib/python3.7/site-packages (from IPython<8,>=6->nbinteract) (42.0.2.post20191203)\n",
      "Requirement already satisfied: prompt-toolkit!=3.0.0,!=3.0.1,<3.1.0,>=2.0.0 in /home/hiromi.suenaga/.conda/envs/fastai2/lib/python3.7/site-packages (from IPython<8,>=6->nbinteract) (3.0.2)\n",
      "Requirement already satisfied: pickleshare in /home/hiromi.suenaga/.conda/envs/fastai2/lib/python3.7/site-packages (from IPython<8,>=6->nbinteract) (0.7.5)\n",
      "Requirement already satisfied: pexpect; sys_platform != \"win32\" in /home/hiromi.suenaga/.conda/envs/fastai2/lib/python3.7/site-packages (from IPython<8,>=6->nbinteract) (4.7.0)\n",
      "Requirement already satisfied: pygments in /home/hiromi.suenaga/.conda/envs/fastai2/lib/python3.7/site-packages (from IPython<8,>=6->nbinteract) (2.5.2)\n",
      "Requirement already satisfied: decorator in /home/hiromi.suenaga/.conda/envs/fastai2/lib/python3.7/site-packages (from IPython<8,>=6->nbinteract) (4.4.1)\n",
      "Requirement already satisfied: defusedxml in /home/hiromi.suenaga/.conda/envs/fastai2/lib/python3.7/site-packages (from nbconvert<6,>=5.3->nbinteract) (0.6.0)\n",
      "Requirement already satisfied: bleach in /home/hiromi.suenaga/.conda/envs/fastai2/lib/python3.7/site-packages (from nbconvert<6,>=5.3->nbinteract) (3.1.0)\n",
      "Requirement already satisfied: pandocfilters>=1.4.1 in /home/hiromi.suenaga/.conda/envs/fastai2/lib/python3.7/site-packages (from nbconvert<6,>=5.3->nbinteract) (1.4.2)\n",
      "Requirement already satisfied: testpath in /home/hiromi.suenaga/.conda/envs/fastai2/lib/python3.7/site-packages (from nbconvert<6,>=5.3->nbinteract) (0.4.4)\n",
      "Requirement already satisfied: entrypoints>=0.2.2 in /home/hiromi.suenaga/.conda/envs/fastai2/lib/python3.7/site-packages (from nbconvert<6,>=5.3->nbinteract) (0.3)\n",
      "Requirement already satisfied: mistune<2,>=0.8.1 in /home/hiromi.suenaga/.conda/envs/fastai2/lib/python3.7/site-packages (from nbconvert<6,>=5.3->nbinteract) (0.8.4)\n",
      "Requirement already satisfied: jupyter-core in /home/hiromi.suenaga/.conda/envs/fastai2/lib/python3.7/site-packages (from nbconvert<6,>=5.3->nbinteract) (4.6.1)\n",
      "Requirement already satisfied: ipython-genutils in /home/hiromi.suenaga/.conda/envs/fastai2/lib/python3.7/site-packages (from traitlets<5,>=4.3->nbinteract) (0.2.0)\n",
      "Requirement already satisfied: six in /home/hiromi.suenaga/.conda/envs/fastai2/lib/python3.7/site-packages (from traitlets<5,>=4.3->nbinteract) (1.13.0)\n",
      "Requirement already satisfied: pandas in /home/hiromi.suenaga/.conda/envs/fastai2/lib/python3.7/site-packages (from bqplot==0.11.0->nbinteract) (0.25.3)\n",
      "Collecting traittypes>=0.0.6\n",
      "  Downloading https://files.pythonhosted.org/packages/9c/d1/8d5bd662703cc1764d986f6908a608777305946fa634d34c470cd4a1e729/traittypes-0.2.1-py2.py3-none-any.whl\n",
      "Requirement already satisfied: widgetsnbextension~=3.5.0 in /home/hiromi.suenaga/.conda/envs/fastai2/lib/python3.7/site-packages (from ipywidgets<8,>=7.5.0->nbinteract) (3.5.1)\n",
      "Requirement already satisfied: ipykernel>=4.5.1 in /home/hiromi.suenaga/.conda/envs/fastai2/lib/python3.7/site-packages (from ipywidgets<8,>=7.5.0->nbinteract) (5.1.3)\n",
      "Requirement already satisfied: jsonschema!=2.5.0,>=2.4 in /home/hiromi.suenaga/.conda/envs/fastai2/lib/python3.7/site-packages (from nbformat<5,>=4.4.0->nbinteract) (3.2.0)\n",
      "Requirement already satisfied: MarkupSafe>=0.23 in /home/hiromi.suenaga/.conda/envs/fastai2/lib/python3.7/site-packages (from Jinja2<3,>=2.10->nbinteract) (1.1.1)\n",
      "Requirement already satisfied: parso>=0.5.0 in /home/hiromi.suenaga/.conda/envs/fastai2/lib/python3.7/site-packages (from jedi>=0.10->IPython<8,>=6->nbinteract) (0.5.2)\n",
      "Requirement already satisfied: wcwidth in /home/hiromi.suenaga/.conda/envs/fastai2/lib/python3.7/site-packages (from prompt-toolkit!=3.0.0,!=3.0.1,<3.1.0,>=2.0.0->IPython<8,>=6->nbinteract) (0.1.7)\n",
      "Requirement already satisfied: ptyprocess>=0.5 in /home/hiromi.suenaga/.conda/envs/fastai2/lib/python3.7/site-packages (from pexpect; sys_platform != \"win32\"->IPython<8,>=6->nbinteract) (0.6.0)\n",
      "Requirement already satisfied: webencodings in /home/hiromi.suenaga/.conda/envs/fastai2/lib/python3.7/site-packages (from bleach->nbconvert<6,>=5.3->nbinteract) (0.5.1)\n",
      "Requirement already satisfied: pytz>=2017.2 in /home/hiromi.suenaga/.conda/envs/fastai2/lib/python3.7/site-packages (from pandas->bqplot==0.11.0->nbinteract) (2019.3)\n",
      "Requirement already satisfied: python-dateutil>=2.6.1 in /home/hiromi.suenaga/.conda/envs/fastai2/lib/python3.7/site-packages (from pandas->bqplot==0.11.0->nbinteract) (2.8.1)\n",
      "Requirement already satisfied: notebook>=4.4.1 in /home/hiromi.suenaga/.conda/envs/fastai2/lib/python3.7/site-packages (from widgetsnbextension~=3.5.0->ipywidgets<8,>=7.5.0->nbinteract) (6.0.2)\n",
      "Requirement already satisfied: jupyter-client in /home/hiromi.suenaga/.conda/envs/fastai2/lib/python3.7/site-packages (from ipykernel>=4.5.1->ipywidgets<8,>=7.5.0->nbinteract) (5.3.4)\n",
      "Requirement already satisfied: tornado>=4.2 in /home/hiromi.suenaga/.conda/envs/fastai2/lib/python3.7/site-packages (from ipykernel>=4.5.1->ipywidgets<8,>=7.5.0->nbinteract) (6.0.3)\n",
      "Requirement already satisfied: importlib-metadata; python_version < \"3.8\" in /home/hiromi.suenaga/.conda/envs/fastai2/lib/python3.7/site-packages (from jsonschema!=2.5.0,>=2.4->nbformat<5,>=4.4.0->nbinteract) (1.3.0)\n",
      "Requirement already satisfied: pyrsistent>=0.14.0 in /home/hiromi.suenaga/.conda/envs/fastai2/lib/python3.7/site-packages (from jsonschema!=2.5.0,>=2.4->nbformat<5,>=4.4.0->nbinteract) (0.15.6)\n",
      "Requirement already satisfied: attrs>=17.4.0 in /home/hiromi.suenaga/.conda/envs/fastai2/lib/python3.7/site-packages (from jsonschema!=2.5.0,>=2.4->nbformat<5,>=4.4.0->nbinteract) (19.3.0)\n",
      "Requirement already satisfied: terminado>=0.8.1 in /home/hiromi.suenaga/.conda/envs/fastai2/lib/python3.7/site-packages (from notebook>=4.4.1->widgetsnbextension~=3.5.0->ipywidgets<8,>=7.5.0->nbinteract) (0.8.3)\n",
      "Requirement already satisfied: prometheus-client in /home/hiromi.suenaga/.conda/envs/fastai2/lib/python3.7/site-packages (from notebook>=4.4.1->widgetsnbextension~=3.5.0->ipywidgets<8,>=7.5.0->nbinteract) (0.7.1)\n",
      "Requirement already satisfied: Send2Trash in /home/hiromi.suenaga/.conda/envs/fastai2/lib/python3.7/site-packages (from notebook>=4.4.1->widgetsnbextension~=3.5.0->ipywidgets<8,>=7.5.0->nbinteract) (1.5.0)\n",
      "Requirement already satisfied: pyzmq>=17 in /home/hiromi.suenaga/.conda/envs/fastai2/lib/python3.7/site-packages (from notebook>=4.4.1->widgetsnbextension~=3.5.0->ipywidgets<8,>=7.5.0->nbinteract) (18.1.0)\n",
      "Requirement already satisfied: zipp>=0.5 in /home/hiromi.suenaga/.conda/envs/fastai2/lib/python3.7/site-packages (from importlib-metadata; python_version < \"3.8\"->jsonschema!=2.5.0,>=2.4->nbformat<5,>=4.4.0->nbinteract) (0.6.0)\n",
      "Requirement already satisfied: more-itertools in /home/hiromi.suenaga/.conda/envs/fastai2/lib/python3.7/site-packages (from zipp>=0.5->importlib-metadata; python_version < \"3.8\"->jsonschema!=2.5.0,>=2.4->nbformat<5,>=4.4.0->nbinteract) (8.0.2)\n",
      "Building wheels for collected packages: toolz\n"
     ]
    },
    {
     "name": "stdout",
     "output_type": "stream",
     "text": [
      "  Building wheel for toolz (setup.py) ... \u001b[?25ldone\n",
      "\u001b[?25h  Created wheel for toolz: filename=toolz-0.10.0-cp37-none-any.whl size=55577 sha256=1d4308f844b90b5aaae1f33ba7bd1eb40dffdba3f551bc6bb68a94827fb776f9\n",
      "  Stored in directory: /home/hiromi.suenaga/.cache/pip/wheels/e1/8b/65/3294e5b727440250bda09e8c0153b7ba19d328f661605cb151\n",
      "Successfully built toolz\n",
      "Installing collected packages: toolz, traittypes, bqplot, docopt, nbinteract\n",
      "Successfully installed bqplot-0.11.0 docopt-0.6.2 nbinteract-0.2.5 toolz-0.10.0 traittypes-0.2.1\n"
     ]
    }
   ],
   "source": [
    "#hide\n",
    "# ! pip install -U sentence-transformers\n",
    "# !pip install nbinteract"
   ]
  },
  {
   "cell_type": "markdown",
   "metadata": {},
   "source": [
    "### Read the dataset, create embeddings vector"
   ]
  },
  {
   "cell_type": "code",
   "execution_count": 2,
   "metadata": {},
   "outputs": [],
   "source": [
    "#hide\n",
    "# ! curl --header \"Host: storage.googleapis.com\" --header \"User-Agent: Mozilla/5.0 (Macintosh; Intel Mac OS X 10_15_3) AppleWebKit/537.36 (KHTML, like Gecko) Chrome/80.0.3987.149 Safari/537.36\" --header \"Accept: text/html,application/xhtml+xml,application/xml;q=0.9,image/webp,image/apng,*/*;q=0.8,application/signed-exchange;v=b3;q=0.9\" --header \"Accept-Language: en-US,en;q=0.9\" --header \"Referer: https://www.kaggle.com/\" \"https://storage.googleapis.com/kaggle-data-sets/551982/1008364/bundle/archive.zip?GoogleAccessId=web-data@kaggle-161607.iam.gserviceaccount.com&Expires=1584988666&Signature=EdfLusMOxjufDKEVw7EiScOcwd9dCyQlCHlz2yIh0lfVFpn9NUpLnxIi96Ftz7b44hNl0uT1G8EhUnN%2FWprajpyigrZBTMkVh3qzNszPIDmIqNestubkCAJOl81r6dtpy3%2FP5E1dDntrhBQPPpeW2h5pd31EgkSJIwvwGzMGVuyw7ayW8EyWpBeAKdjOVS3LRSFZSGLoeievgWMxv7Vm00LwMmK3YfwSRtFVEuDpYdEYAcr6P3hl1MGnJxS5uJqF6LVNlmm%2Bxwim%2BTAU2eQfB2T2U8F7hfuawQtpkkuHkv3lf2QsXvZlLugmV0wDyrUHXxYkftdQdHPTLASe9Hfj1Q%3D%3D&response-content-disposition=attachment%3B+filename%3DCORD-19-research-challenge.zip\" -o \"CORD-19-research-challenge.zip\" -L"
   ]
  },
  {
   "cell_type": "code",
   "execution_count": 3,
   "metadata": {},
   "outputs": [],
   "source": [
    "#hide\n",
    "# ! mkdir data"
   ]
  },
  {
   "cell_type": "code",
   "execution_count": 4,
   "metadata": {},
   "outputs": [],
   "source": [
    "#hide\n",
    "# ! unzip -d data/CORD-19-research-challenge.zip"
   ]
  },
  {
   "cell_type": "code",
   "execution_count": 5,
   "metadata": {
    "_cell_guid": "79c7e3d0-c299-4dcb-8224-4455121ee9b0",
    "_uuid": "d629ff2d2480ee46fbb7e2d37f6b5fab8052498a"
   },
   "outputs": [
    {
     "name": "stdout",
     "output_type": "stream",
     "text": [
      "Corpus size = 67252\n"
     ]
    }
   ],
   "source": [
    "#hide\n",
    "import os\n",
    "import json\n",
    "import pickle\n",
    "from sentence_transformers import SentenceTransformer\n",
    "import scipy\n",
    "\n",
    "JSON_PATH = 'data/2020-03-13/noncomm_use_subset/noncomm_use_subset/'\n",
    "\n",
    "json_files = [pos_json for pos_json in os.listdir(JSON_PATH) if pos_json.endswith('.json')]\n",
    "\n",
    "corpus = []\n",
    "\n",
    "# loop through the files\n",
    "for jfile in json_files[::]:\n",
    "    # for each file open it and read as json\n",
    "    with open(os.path.join(JSON_PATH, jfile)) as json_file:\n",
    "        covid_json = json.load(json_file)\n",
    "        # read abstract\n",
    "        for item in covid_json['abstract']:\n",
    "            corpus.append(item['text'])\n",
    "        # read body text\n",
    "        for item in covid_json['body_text']:\n",
    "            corpus.append(item['text'])\n",
    "            \n",
    "\n",
    "\n",
    "embedder = SentenceTransformer('bert-base-nli-mean-tokens')\n",
    "# corpus_embeddings = embedder.encode(corpus) \n",
    "# pickle.dump(corpus_embeddings, open('corpus_embedding.pkl','wb'))"
   ]
  },
  {
   "cell_type": "code",
   "execution_count": 16,
   "metadata": {},
   "outputs": [
    {
     "name": "stdout",
     "output_type": "stream",
     "text": [
      "  % Total    % Received % Xferd  Average Speed   Time    Time     Time  Current\n",
      "                                 Dload  Upload   Total   Spent    Left  Speed\n",
      "100  200M    0  200M    0     0  10.7M      0 --:--:--  0:00:18 --:--:-- 11.1M\n"
     ]
    }
   ],
   "source": [
    "! curl --header \"Host: doc-0k-6g-docs.googleusercontent.com\" --header \"User-Agent: Mozilla/5.0 (Macintosh; Intel Mac OS X 10_15_3) AppleWebKit/537.36 (KHTML, like Gecko) Chrome/80.0.3987.149 Safari/537.36\" --header \"Accept: text/html,application/xhtml+xml,application/xml;q=0.9,image/webp,image/apng,*/*;q=0.8,application/signed-exchange;v=b3;q=0.9\" --header \"Accept-Language: en-US,en;q=0.9\" --header \"Cookie: AUTH_54o58k3mrosb0ntis1d6ki80s5u2suja_nonce=an1gmni0poujk; NID=198=Ur67qjvAf1i-tnwiUIgNirKuT_vpDT-dQFBEpw1j-TqAwCLeMW_JiF4XgHk3lTe93MRbZ02lUdw5qfXH0Em0ewYTjs-dfoit2-G7LdsU167QVcVzy0GVGfPKjWniJ6ymSJxjYLcq1uc6NvhRyj-emsL0X13_WSAzTdiTHTsTQb0\" --header \"Connection: keep-alive\" \"https://doc-0k-6g-docs.googleusercontent.com/docs/securesc/lggtpbl23ghctm8snd2br4sbmhr20ifs/foacldgvepp7u9cotr6nrqoko3vh8n2g/1584733950000/09981225647225991988/09981225647225991988/1sCbqmVvxj0EacUoceZEv1EC_NME7ZEMF?e=download&h=11307479845000005816&authuser=0&nonce=an1gmni0poujk&user=09981225647225991988&hash=ttt49oojsrjkqdjp51g9348od17m0jdq\" -o \"corpus_embedding.pkl\" -L"
   ]
  },
  {
   "cell_type": "code",
   "execution_count": 6,
   "metadata": {},
   "outputs": [],
   "source": [
    "corpus_embeddings = pickle.load(open('corpus_embedding.pkl', 'rb'))"
   ]
  },
  {
   "cell_type": "code",
   "execution_count": 7,
   "metadata": {},
   "outputs": [],
   "source": [
    "#hide\n",
    "def ask_question(query):\n",
    "    queries = [query]\n",
    "    query_embeddings = embedder.encode(queries)\n",
    "\n",
    "    # Find the closest 5 sentences of the corpus for each query sentence based on cosine similarity\n",
    "    closest_n = 5\n",
    "    for query, query_embedding in zip(queries, query_embeddings):\n",
    "        distances = scipy.spatial.distance.cdist([query_embedding], corpus_embeddings, \"cosine\")[0]\n",
    "\n",
    "        results = zip(range(len(distances)), distances)\n",
    "        results = sorted(results, key=lambda x: x[1])\n",
    "        \n",
    "        # get the closest answers\n",
    "        for idx, distance in results[0:closest_n]:\n",
    "            print(\"\\n======================\\n\")        \n",
    "            print(f\"Answer {idx}: \\n\", corpus[idx].strip(), \"(Score: %.4f)\" % (1-distance))"
   ]
  },
  {
   "cell_type": "markdown",
   "metadata": {},
   "source": [
    "## Question 1: Does smoking or pre-existing pulmonary disease increase risk of COVID-19?"
   ]
  },
  {
   "cell_type": "code",
   "execution_count": 8,
   "metadata": {},
   "outputs": [
    {
     "name": "stdout",
     "output_type": "stream",
     "text": [
      "\n",
      "======================\n",
      "\n",
      "ANSWER = \n",
      " Among patients with cancer 7,8 , pulmonary diseases 5,9*11 , immunological conditions 8, 11, 12 , renal diseases 13 , or organ transplantation 8,14,15 corticosteroid therapy has been associated with increased risk of ON. Further, important lifestyle factors, including tobacco use 16, 17 and high alcohol consumption 16*18 may increase ON risk. (Score: 0.7884)\n",
      "\n",
      "======================\n",
      "\n",
      "ANSWER = \n",
      " The role of eosinophils in COPD and the mechanism of eosinophil influx into airways remain to be clarified. Hogg et al. 5 reported that eosinophils do exist in the small airways of various severity of COPD. In a prospective clinical observation, nearly one third of COPD patients had sputum eosinophilia and the number of eosinophils was significantly correlated to the level of exhaled nitric oxide 17 . The degree of eosinophilic inflammation has been related to early changes in lung function and smoking habits. The higher counts of eosinophils in induced sputum is associated with higher pack-years and lower peak expiratory flow 25%-75% values 18 . In a retrospective analysis, FEV 1 reversibility was weakly correlated with the sputum eosinophil level. Patients with FEV 1 >0.4 L and >15% increment had higher sputum eosinophil levels whereas the level did not differ when dichotomized by FEV 1 increment >0.2 L and >12% 19 . The response to corticosteroids in COPD patients were better in a subset of patients presenting with more eosinophils and higher levels of eosinophil cationic protein 20 , suggesting that corticosteroids may be effective especially for patients with COPD with eosinophilic airway inflammation 21, 22 . In addition, we had reported that inhaled fluticasone (200 µg/day) can significantly suppress the numbers of eosinophils in the airways of COPD. Suppression of such eosinophilic inflammation was not associated with improvement in lung function. Brightling et al. 23 also reported that the improvement in FEV 1 is not associated with a reduction in the sputum eosinophil count in COPD with sputum eosinophilia. (Score: 0.7834)\n",
      "\n",
      "======================\n",
      "\n",
      "ANSWER = \n",
      " Severe acute bronchiolitis experienced early in childhood is associated with an increased risk of asthma that may persist into early adulthood. 1 It remains to be elucidated whether bronchiolitis is the cause of lung injury that results in subsequent wheezing episodes and asthma development or whether there is an inherent predisposition to both acute bronchiolitis and latter asthma, with bronchiolitis being an early marker of this predisposition. Regardless of possible underlying lung morbidity, the major viral causes of acute bronchiolitis/first wheeze, RSV and RV, seem to have a different course in post-bronchiolitis asthma sequela. (Score: 0.7657)\n",
      "\n",
      "======================\n",
      "\n",
      "ANSWER = \n",
      " Chronic obstructive pulmonary disease (COPD) is a complex mix of signs and symptoms in patients with chronic bronchitis and emphysema that largely results from cigarette smoking [1] . Several lines of evidence strongly suggest that genetic factors influence COPD susceptibility as well; severe α1-antitrypsin deficiency is one of the proven genetic determinants of COPD [2] . Variants in several candidate genes have been significantly associated with COPD, suggesting an interaction between genetic and environmental influences [3] . (Score: 0.7584)\n",
      "\n",
      "======================\n",
      "\n",
      "ANSWER = \n",
      " Smoking is known to be a risk factor of invasive pneumococcal diseases even in young people who are not immunosuppressed [227] . Both direct and indirect smoking is a risk factor of community-acquired pneumonia [228, 229] . In addition, smoking is a risk factor of Legionella infections [230] . (Score: 0.7545)\n"
     ]
    }
   ],
   "source": [
    "ask_question('Does smoking or pre-existing pulmonary disease increase risk of COVID-19?')"
   ]
  },
  {
   "cell_type": "markdown",
   "metadata": {},
   "source": [
    "## Question 2: Are neonates and pregnant women ar greater risk of COVID-19?"
   ]
  },
  {
   "cell_type": "code",
   "execution_count": 9,
   "metadata": {},
   "outputs": [
    {
     "name": "stdout",
     "output_type": "stream",
     "text": [
      "\n",
      "======================\n",
      "\n",
      "ANSWER = \n",
      " Newborns are considered at high risk of COVID-19 in case that they are born to mothers diagnosed with COVID-19, or have close contact with someone with probable or confirmed COVID-19, or live in or travel to the epidemic area. Clinical manifestations of infected neonates, especially preterm infants, might be nonspecific, which might include temperature instability, gastrointestinal and cardiovascular dysfunction, and dominant respiratory problems. Some severe patients could rapidly develop acute respiratory distress syndrome. All infants with suspected COVID-19 should be isolated and monitored regardless of whether or not they present with symptoms. Diagnosis of neonatal COVID-19 could be confirmed if the suspected patients have positive nucleic acid test for COVID-19 from the respiratory tract, stool or blood specimens. 4 Infants with highly suspected or confirmed COVID-19 should be referred to the designated neonatal ward. All medical staff involved should wear protective equipment. The neonatal department should be strictly stratified into transitional, quarantine, living and work areas. Infants with suspected infection should be isolated in a single room, while confirmed patients should be moved into separate rooms. The quarantine room should be equipped with an isolated air cycle system. Due to the strong infectivity of COVID-19, negative pressure isolation rooms are recommended. (Score: 0.7704)\n",
      "\n",
      "======================\n",
      "\n",
      "ANSWER = \n",
      " Pregnant women are conventionally considered a high-risk group for the progression to severe disease or death, and a case was reported of stillbirth in the second trimester of pregnancy for a woman infected with MERS-CoV [27] . Of the antiviral drugs recommended, ribavirin is in Category X for safety in pregnant women, while lopinavir/ritonavir and type 1 interferon are in Category C. Given the lack of clinical studies on antiviral treatment in pregnant women, it is difficult to recommend these drugs. Considering the physiological adaptations to pregnancy in pregnant women, conservative treatment should be provided [28] . When treating pregnant women infected with human immunodeficiency virus (HIV), the preferred protease inhibitor is lopinavir/ritonavir [29] . Among type 1 interferons, there is evidence supporting the safe use of interferon-β1a, which is used to treat multiple sclerosis, in pregnant women. Although one report showed that the incidence of spontaneous abortion increased in pregnant women who used interferon-β1a, there was no statistically significant difference with the incidence in control individuals [30, 31] . Therefore, the use of antiviral drugs can be considered after a comparison of risks and benefits of the drugs. Possible antiviral treatment would be combination therapy with interferon-β1a and lopinavir/tironavir, but there is no case report of this being used in pregnant women with MERS. Any decision to use antiviral drugs requires the consideration of ethical issues and a consultation with an obstetric specialist. (Score: 0.7427)\n",
      "\n",
      "======================\n",
      "\n",
      "ANSWER = \n",
      " Stephanie Vijan 1 , Katarzyna Dembek 2 , Steven Reed 3 , Nathan Slovis 4 , Ramiro Toribio 5 Septicemia is the leading cause of mortality in newborn foals. Progesterone is mainly known for its role in pregnancy; however, it is also a precursor to adrenocortical and neuroactive steroids and likely plays important functions in equine neonates. Human studies have demonstrated that progesterone modulates immunity and predisposes to inflammatory conditions. However, the mechanisms by which progesterone influences outcomes in sick foals remain unclear. The goal of our study was to measure blood concentrations of inflammatory cytokines and serum amyloid A (SAA) in healthy and hospitalized foals, and to determine their association with progesterone, severity of disease, and mortality. We hypothesized that hospitalized foals will have higher progesterone, 17 α -hydroxyprogesterone and cortisol concentrations that will be associated with the inflammatory response, disease severity and mortality. Foals (n = 62) were divided into three groups based on severity of disease (septic [n = 31], sick non-septic [SNS; n = 21], and healthy [n = 10]), and hospitalized foals (SNS and septic) were divided into two groups based on survival (survivors and non-survivors). Blood samples were collected on admission. Hormones were measured by radioimmunoassay, and cytokines by ELISA. (Score: 0.7427)\n",
      "\n",
      "======================\n",
      "\n",
      "ANSWER = \n",
      " In the cases classified as confirmed during the pandemic influenza, we have noted a slight increase in the proportion of pregnant women who present comorbidities when compared with the general population, and in the case-fatality rate in pregnant women and also in the general population (4.04%). The severity of infection by the the influenza virus in pregnant women may be related to alterations that the gestational process triggers in women, such as the overburden of the circulation, as well as of the respiratory and immunologic systems. This group is submitted to additional care, as they routinely present better adherence to the services, including the prenatal care. As a consequence, the greater attention of health professionals regarding pregnant women may contribute to a better detection of suspected and confirmed cases leading to lower complication rates, hospitalizations and mortality in this group. (Score: 0.7420)\n",
      "\n",
      "======================\n",
      "\n",
      "ANSWER = \n",
      " It is concluded that cardiac structure and function varied during normal pregnancy in these queens. Cardiac eccentric hypertrophy, systolic function and cardiac output increases appear to be the consequences of the hemodynamic modifications occurring during pregnancy. The assessment of maternal cardiovascular function may prove a useful screening tool to detect pregnancy complications in feline reproduction. (Score: 0.7397)\n"
     ]
    }
   ],
   "source": [
    "ask_question('Are neonates and pregnant women ar greater risk of COVID-19?')"
   ]
  },
  {
   "cell_type": "markdown",
   "metadata": {},
   "source": [
    "## Question3: Severity of disease, including risk of fatality among symptomatic hospitalized patients, and high-risk patient groups"
   ]
  },
  {
   "cell_type": "code",
   "execution_count": 10,
   "metadata": {},
   "outputs": [
    {
     "name": "stdout",
     "output_type": "stream",
     "text": [
      "\n",
      "======================\n",
      "\n",
      "ANSWER = \n",
      " In outbreaks of infectious disease, healthcare personnel (HCP) are at increased risk of contracting emerging infections in the process of patient care [1, 2] . (Score: 0.8333)\n",
      "\n",
      "======================\n",
      "\n",
      "ANSWER = \n",
      " High morbidity and mortality in influenza are seen especially among those at the extremes of age (elderly and very young), those with underlying health conditions and pregnant women. 29 Underlying health conditions especially associated with an increased risk for complicated influenza are immunecompromised individuals, either due to the underlying disease, or to immunomodulatory treatment, like organ transplant recipients and those taking medication for autoimmune conditions. 30 Furthermore, chronic pulmonary disease 31 , diabetes mellitus, cardiovascular disease and malignancies are also considered risk factors for developing severe influenza or complications. 32 Impact on Travellers Even a relatively mild, self-limiting seasonal influenza virus infection can have drastic impact on the success of a holiday or business trip. Furthermore, travel of athletes to international contests and artists to performances abroad or social gatherings like weddings can be ruined by influenza. Among the wellrecognized examples spread through the media are the German national football team and coach during the 2010 World Cup in South Africa and a famous rock star of a concert that had to be cancelled as he got influenza. [33] [34] [35] A large study of influenza virus infection in persons travelling to tropical and sub-tropical countries found that 1.1% of the travellers enrolled in the study seroconverted and that 40% of those who seroconverted had sought medical attention during their travel: a highly significant number. 25 Influenza virus infections were acquired largely from Asia (47.5%), Africa (27.5%) and Latin America (25%). 25 It is important to note that, independent of travel, seasonal influenza outbreaks have been repeatedly associated with poor outcomes even in patients without co-morbidities: including small numbers who develop severe and even lethal influenza as well as life-threatening complications. Examples include patients with severe viral pneumonia, acute respiratory distress syndrome (ARDS), post-influenza Staphylococcus aureus infection with a potential Methicillin-resistant S. aureus infection or rare examples of myocarditis and encephalitis. 32, 36, 37 It is now generally accepted that even healthy individuals have a low but important risk of developing severe influenza-associated disease. 2 Furthermore, there is a significant economic burden of seasonal influenza due to sick leave, medical care and medication. Unexpected medical events while travelling can be particularly expensive. (Score: 0.8070)\n",
      "\n",
      "======================\n",
      "\n",
      "ANSWER = \n",
      " Asthma is a chronic condition of public health concern associated with morbidity, mortality and healthcare utilisation. It disproportionately affects certain ethnic and demographic groups. (Score: 0.8052)\n",
      "\n",
      "======================\n",
      "\n",
      "ANSWER = \n",
      " P. aeruginosa infections in severe AECOPD are difficult to treat, and secondary problems often arise. P. aeruginosa infections occur mainly in high-risk patients. In severe AECOPD, P. aeruginosa infections mean poor prognosis and an increased rate of readmission. (Score: 0.7992)\n",
      "\n",
      "======================\n",
      "\n",
      "ANSWER = \n",
      " Acute respiratory tract infection (ARTI) is the most common causes of outpatient visit and hospital admission for children. [1] The severity of the ARTI varies substantially depending on the site of infection, the type of viruses, involved organs and comorbidities. [2] For example, viral pneumonia can be life threatening due to uncontrolled systematic inflammatory response, leading to septic shock, acute respiratory distress syndrome (ARDS) and multiple organ failure. [3] [4] [5] These later conditions require intensive care unit admission, and are associated with significantly increased risk of death, high medical cost and family distress. [4] It was estimated that there were approximately 1.9 million children died annually from ARTI, and most of them were from developing countries. [6] The type of respiratory viruses is very important for the understanding of the underlying pathogenesis of respiratory infections in children. A recent epidemiological study involving 17 centers and 8 countries showed that rhinovirus/enterovirus (41.5%) is the most prevalent viruses causing children's respiratory infection, followed by influenza (15.8%), adenovirus (9.8%), parainfluenza, and respiratory syncytial virus (RSV) (both 9.7%). [7] China is a country with the largest population in the world. With the implementation of 2-child policy, the children's hospitals in China are facing great challenge to treat increasing number of children. ARTI is the most common reason for outpatient visit and hospital admission in China, [8] imposing a great challenge for clinicians. Throat swab and sputum samples are usually ordered for children with suspected ARTI and the number is very large. [9, 10] However, there is no study reporting epidemiological data on test results of respiratory viruses. The study aimed to report epidemiological data on respiratory viruses in a university-affiliated children's hospital. Furthermore, we investigated distributions of different types of respiratory viruses with seasonal changes. Risk factors for positive results for adenovirus, influenza A, influenza B, and respiratory syncytial virus (RSV) were also investigated. (Score: 0.7992)\n"
     ]
    }
   ],
   "source": [
    "ask_question('Severity of disease, including risk of fatality among symptomatic hospitalized patients, and high-risk patient groups')"
   ]
  },
  {
   "cell_type": "markdown",
   "metadata": {},
   "source": [
    "## Question 4: Socio-economic and behavioral factors to understand the economic impact of the virus and whether there were differences."
   ]
  },
  {
   "cell_type": "code",
   "execution_count": 11,
   "metadata": {},
   "outputs": [
    {
     "name": "stdout",
     "output_type": "stream",
     "text": [
      "\n",
      "======================\n",
      "\n",
      "ANSWER = \n",
      " New or reemerging infectious diseases epidemic cause economic loss which is reflected in movements in stock prices. (Score: 0.7405)\n",
      "\n",
      "======================\n",
      "\n",
      "ANSWER = \n",
      " • be preceded by pilot cost impact evaluation studies (given current uncertainty regarding the economic consequences of inservice emergency care training); and (Score: 0.7348)\n",
      "\n",
      "======================\n",
      "\n",
      "ANSWER = \n",
      " Obviously, there is a great deal of variability from country to country and, over time, in the correlation between economic growth and trade. Assuming a lower impact of an infectious disease outbreak is, in our model, equivalent to assuming a less than 1-to-1 correlation between GDP and trade (see sensitivity analysis below). (Score: 0.7211)\n",
      "\n",
      "======================\n",
      "\n",
      "ANSWER = \n",
      " Still another consideration of the nine NTDs that would potentially be targeted by human vaccines is their economic impact. 18 There are now multiple health economic estimates of these NTDs, both globally and among local or regional populations. 9, 13, 19, 20 These studies primarily look at the economic burden of NTDs, or the benefits of mass drug administration or other programs linked to NTDs. [21] [22] [23] In addition, the studies have focused on health-care costs, and the impact on human capacity, especially for agricultural workers and women and children, 18, 24 while others look at cost-effectiveness in the context of the PDP ecosystem. [25] [26] [27] Additional efforts have modeled the cost-effectiveness of NTD vaccines, 19, 20 or vaccines linked to chemotherapy. 28, 29 For example, a modeling study to evaluate a hookworm vaccine delivered with preventive chemotherapy has the potential for positive societal benefits, while at the same time be cost-effective. 29 Therefore, more cost-economic studies are needed to investigate the mechanisms by which NTD or \"antipoverty\" vaccines could prevent debilitating disease and improve long-term economic outcomes. [23] [24] [25] The framework of Texas Children's CVD Similar to what was presented by Denee, et al. in 2012, 26 for the past two decades, Texas Children's CVD has adapted and refined an operational framework with guiding principles ( Table 2 ) and objectives (Box 2) that allows to measure indicators of success as well as recognize, early on, the challenges of each vaccine development program: (Score: 0.6994)\n",
      "\n",
      "======================\n",
      "\n",
      "ANSWER = \n",
      " The progress of a viral infection in a population is a multifactorial process, depending on a range of both biotic and abiotic factors. These factors and their influence on the development and transmission of the infection at the population level constitute the eco-epidemiology of an infectious disease. There is a strong relationship between the route of transmission and the ecoepidemiology of a given infectious disease. For example, the spread of infections that are transmitted by direct contact largely depends on the population density, which determines the distance between infected and susceptible individuals. For airborne infections, temperature, humidity, and wind can have a significant influence on the progress of the epidemic. Waterborne and foodborne viruses are usually highly resistant to adverse environmental conditions. A particular case of this type of transmission is represented by the fecal-oral route (often water, food, or objects are contaminated by fecal waste). Viruses that are transmitted through this route have a characteristic resistance to low pH, allowing them to pass through the animal's digestive tract, overcoming the natural barrier that represents the acid secretion of gastric parietal cells. Often, these viruses produce diarrhea, thus being shed in large amounts and returning to the environment, where they can remain infectious for a variable period (up to several months in some instances), depending mainly on environmental temperature (the colder the longer), but also on the presence of salts, organic matter, moisture, solar radiation, etc., until they reach another host and begin the infectious cycle again (Jimenez-Clavero et al., 2005b) . (Score: 0.6943)\n"
     ]
    }
   ],
   "source": [
    "ask_question('Socio-economic and behavioral factors to understand the economic impact of the virus and whether there were differences.')"
   ]
  },
  {
   "cell_type": "markdown",
   "metadata": {},
   "source": [
    "## Question 5: Severity of disease, including risk of fatality among symptomatic hospitalized patients, and high-risk patient groups"
   ]
  },
  {
   "cell_type": "code",
   "execution_count": 12,
   "metadata": {},
   "outputs": [
    {
     "name": "stdout",
     "output_type": "stream",
     "text": [
      "\n",
      "======================\n",
      "\n",
      "ANSWER = \n",
      " In outbreaks of infectious disease, healthcare personnel (HCP) are at increased risk of contracting emerging infections in the process of patient care [1, 2] . (Score: 0.8333)\n",
      "\n",
      "======================\n",
      "\n",
      "ANSWER = \n",
      " High morbidity and mortality in influenza are seen especially among those at the extremes of age (elderly and very young), those with underlying health conditions and pregnant women. 29 Underlying health conditions especially associated with an increased risk for complicated influenza are immunecompromised individuals, either due to the underlying disease, or to immunomodulatory treatment, like organ transplant recipients and those taking medication for autoimmune conditions. 30 Furthermore, chronic pulmonary disease 31 , diabetes mellitus, cardiovascular disease and malignancies are also considered risk factors for developing severe influenza or complications. 32 Impact on Travellers Even a relatively mild, self-limiting seasonal influenza virus infection can have drastic impact on the success of a holiday or business trip. Furthermore, travel of athletes to international contests and artists to performances abroad or social gatherings like weddings can be ruined by influenza. Among the wellrecognized examples spread through the media are the German national football team and coach during the 2010 World Cup in South Africa and a famous rock star of a concert that had to be cancelled as he got influenza. [33] [34] [35] A large study of influenza virus infection in persons travelling to tropical and sub-tropical countries found that 1.1% of the travellers enrolled in the study seroconverted and that 40% of those who seroconverted had sought medical attention during their travel: a highly significant number. 25 Influenza virus infections were acquired largely from Asia (47.5%), Africa (27.5%) and Latin America (25%). 25 It is important to note that, independent of travel, seasonal influenza outbreaks have been repeatedly associated with poor outcomes even in patients without co-morbidities: including small numbers who develop severe and even lethal influenza as well as life-threatening complications. Examples include patients with severe viral pneumonia, acute respiratory distress syndrome (ARDS), post-influenza Staphylococcus aureus infection with a potential Methicillin-resistant S. aureus infection or rare examples of myocarditis and encephalitis. 32, 36, 37 It is now generally accepted that even healthy individuals have a low but important risk of developing severe influenza-associated disease. 2 Furthermore, there is a significant economic burden of seasonal influenza due to sick leave, medical care and medication. Unexpected medical events while travelling can be particularly expensive. (Score: 0.8070)\n",
      "\n",
      "======================\n",
      "\n",
      "ANSWER = \n",
      " Asthma is a chronic condition of public health concern associated with morbidity, mortality and healthcare utilisation. It disproportionately affects certain ethnic and demographic groups. (Score: 0.8052)\n",
      "\n",
      "======================\n",
      "\n",
      "ANSWER = \n",
      " P. aeruginosa infections in severe AECOPD are difficult to treat, and secondary problems often arise. P. aeruginosa infections occur mainly in high-risk patients. In severe AECOPD, P. aeruginosa infections mean poor prognosis and an increased rate of readmission. (Score: 0.7992)\n",
      "\n",
      "======================\n",
      "\n",
      "ANSWER = \n",
      " Acute respiratory tract infection (ARTI) is the most common causes of outpatient visit and hospital admission for children. [1] The severity of the ARTI varies substantially depending on the site of infection, the type of viruses, involved organs and comorbidities. [2] For example, viral pneumonia can be life threatening due to uncontrolled systematic inflammatory response, leading to septic shock, acute respiratory distress syndrome (ARDS) and multiple organ failure. [3] [4] [5] These later conditions require intensive care unit admission, and are associated with significantly increased risk of death, high medical cost and family distress. [4] It was estimated that there were approximately 1.9 million children died annually from ARTI, and most of them were from developing countries. [6] The type of respiratory viruses is very important for the understanding of the underlying pathogenesis of respiratory infections in children. A recent epidemiological study involving 17 centers and 8 countries showed that rhinovirus/enterovirus (41.5%) is the most prevalent viruses causing children's respiratory infection, followed by influenza (15.8%), adenovirus (9.8%), parainfluenza, and respiratory syncytial virus (RSV) (both 9.7%). [7] China is a country with the largest population in the world. With the implementation of 2-child policy, the children's hospitals in China are facing great challenge to treat increasing number of children. ARTI is the most common reason for outpatient visit and hospital admission in China, [8] imposing a great challenge for clinicians. Throat swab and sputum samples are usually ordered for children with suspected ARTI and the number is very large. [9, 10] However, there is no study reporting epidemiological data on test results of respiratory viruses. The study aimed to report epidemiological data on respiratory viruses in a university-affiliated children's hospital. Furthermore, we investigated distributions of different types of respiratory viruses with seasonal changes. Risk factors for positive results for adenovirus, influenza A, influenza B, and respiratory syncytial virus (RSV) were also investigated. (Score: 0.7992)\n"
     ]
    }
   ],
   "source": [
    "ask_question('Severity of disease, including risk of fatality among symptomatic hospitalized patients, and high-risk patient groups')"
   ]
  },
  {
   "cell_type": "markdown",
   "metadata": {},
   "source": [
    "# Ask your own question"
   ]
  },
  {
   "cell_type": "code",
   "execution_count": 18,
   "metadata": {},
   "outputs": [],
   "source": [
    "from ipywidgets import interact"
   ]
  },
  {
   "cell_type": "code",
   "execution_count": 19,
   "metadata": {},
   "outputs": [
    {
     "data": {
      "application/vnd.jupyter.widget-view+json": {
       "model_id": "70d50487f41449bf88ef392daae80cd8",
       "version_major": 2,
       "version_minor": 0
      },
      "text/plain": [
       "interactive(children=(Text(value='', description='query'), Output()), _dom_classes=('widget-interact',))"
      ]
     },
     "metadata": {},
     "output_type": "display_data"
    },
    {
     "data": {
      "text/plain": [
       "<function __main__.ask_question(query)>"
      ]
     },
     "execution_count": 19,
     "metadata": {},
     "output_type": "execute_result"
    }
   ],
   "source": [
    "interact(ask_question, query='')"
   ]
  },
  {
   "cell_type": "code",
   "execution_count": null,
   "metadata": {},
   "outputs": [],
   "source": []
  }
 ],
 "metadata": {
  "kernelspec": {
   "display_name": "fastai2",
   "language": "python",
   "name": "fastai2"
  },
  "language_info": {
   "codemirror_mode": {
    "name": "ipython",
    "version": 3
   },
   "file_extension": ".py",
   "mimetype": "text/x-python",
   "name": "python",
   "nbconvert_exporter": "python",
   "pygments_lexer": "ipython3",
   "version": "3.7.5"
  }
 },
 "nbformat": 4,
 "nbformat_minor": 4
}
