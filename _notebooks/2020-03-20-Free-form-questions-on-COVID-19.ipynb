{
 "cells": [
  {
   "cell_type": "markdown",
   "metadata": {},
   "source": [
    "# Free form questioning on COVID-19 dataset \n",
    "\n",
    ">We will use universal sentence encoder to encode text from COVID-19 dataset and use to answer queries\n",
    "\n",
    "- Based on the paper at: https://arxiv.org/abs/1803.11175\n",
    "\n",
    "- Dataset available at: https://pages.semanticscholar.org/coronavirus-research\n",
    "\n",
    "- By Dattaraj J Rao (Persistent Systems) - https://www.linkedin.com/in/dattarajrao"
   ]
  },
  {
   "cell_type": "markdown",
   "metadata": {},
   "source": [
    "## We will use the Sentence Transformers library\n",
    "\n",
    "Approach is to encode relevant text corpus from COVID-19 dataset and then match the question embedding with this to fiond top 3 matching answers."
   ]
  },
  {
   "cell_type": "code",
   "execution_count": 1,
   "metadata": {
    "_cell_guid": "b1076dfc-b9ad-4769-8c92-a6c4dae69d19",
    "_uuid": "8f2839f25d086af736a60e9eeb907d3b93b6e0e5"
   },
   "outputs": [],
   "source": [
    "#hide\n",
    "# ! pip install -U sentence-transformers\n",
    "# !pip install nbinteract"
   ]
  },
  {
   "cell_type": "markdown",
   "metadata": {},
   "source": [
    "### Read the dataset, create embeddings vector"
   ]
  },
  {
   "cell_type": "code",
   "execution_count": 2,
   "metadata": {},
   "outputs": [],
   "source": [
    "#hide\n",
    "# ! curl --header \"Host: storage.googleapis.com\" --header \"User-Agent: Mozilla/5.0 (Macintosh; Intel Mac OS X 10_15_3) AppleWebKit/537.36 (KHTML, like Gecko) Chrome/80.0.3987.149 Safari/537.36\" --header \"Accept: text/html,application/xhtml+xml,application/xml;q=0.9,image/webp,image/apng,*/*;q=0.8,application/signed-exchange;v=b3;q=0.9\" --header \"Accept-Language: en-US,en;q=0.9\" --header \"Referer: https://www.kaggle.com/\" \"https://storage.googleapis.com/kaggle-data-sets/551982/1008364/bundle/archive.zip?GoogleAccessId=web-data@kaggle-161607.iam.gserviceaccount.com&Expires=1584988666&Signature=EdfLusMOxjufDKEVw7EiScOcwd9dCyQlCHlz2yIh0lfVFpn9NUpLnxIi96Ftz7b44hNl0uT1G8EhUnN%2FWprajpyigrZBTMkVh3qzNszPIDmIqNestubkCAJOl81r6dtpy3%2FP5E1dDntrhBQPPpeW2h5pd31EgkSJIwvwGzMGVuyw7ayW8EyWpBeAKdjOVS3LRSFZSGLoeievgWMxv7Vm00LwMmK3YfwSRtFVEuDpYdEYAcr6P3hl1MGnJxS5uJqF6LVNlmm%2Bxwim%2BTAU2eQfB2T2U8F7hfuawQtpkkuHkv3lf2QsXvZlLugmV0wDyrUHXxYkftdQdHPTLASe9Hfj1Q%3D%3D&response-content-disposition=attachment%3B+filename%3DCORD-19-research-challenge.zip\" -o \"CORD-19-research-challenge.zip\" -L"
   ]
  },
  {
   "cell_type": "code",
   "execution_count": 3,
   "metadata": {},
   "outputs": [],
   "source": [
    "#hide\n",
    "# ! mkdir data"
   ]
  },
  {
   "cell_type": "code",
   "execution_count": 4,
   "metadata": {},
   "outputs": [],
   "source": [
    "#hide\n",
    "# ! unzip -d data/CORD-19-research-challenge.zip"
   ]
  },
  {
   "cell_type": "code",
   "execution_count": 5,
   "metadata": {
    "_cell_guid": "79c7e3d0-c299-4dcb-8224-4455121ee9b0",
    "_uuid": "d629ff2d2480ee46fbb7e2d37f6b5fab8052498a"
   },
   "outputs": [],
   "source": [
    "#hide\n",
    "import os\n",
    "import json\n",
    "import pickle\n",
    "from sentence_transformers import SentenceTransformer\n",
    "import scipy\n",
    "\n",
    "JSON_PATH = 'data/2020-03-13/noncomm_use_subset/noncomm_use_subset/'\n",
    "\n",
    "json_files = [pos_json for pos_json in os.listdir(JSON_PATH) if pos_json.endswith('.json')]\n",
    "\n",
    "corpus = []\n",
    "\n",
    "# loop through the files\n",
    "for jfile in json_files[::]:\n",
    "    # for each file open it and read as json\n",
    "    with open(os.path.join(JSON_PATH, jfile)) as json_file:\n",
    "        covid_json = json.load(json_file)\n",
    "        # read abstract\n",
    "        for item in covid_json['abstract']:\n",
    "            corpus.append(item['text'])\n",
    "        # read body text\n",
    "        for item in covid_json['body_text']:\n",
    "            corpus.append(item['text'])\n",
    "            \n",
    "\n",
    "\n",
    "embedder = SentenceTransformer('bert-base-nli-mean-tokens')\n",
    "# corpus_embeddings = embedder.encode(corpus) \n",
    "# pickle.dump(corpus_embeddings, open('corpus_embedding.pkl','wb'))"
   ]
  },
  {
   "cell_type": "code",
   "execution_count": null,
   "metadata": {},
   "outputs": [],
   "source": [
    "! curl --header \"Host: doc-0k-6g-docs.googleusercontent.com\" --header \"User-Agent: Mozilla/5.0 (Macintosh; Intel Mac OS X 10_15_3) AppleWebKit/537.36 (KHTML, like Gecko) Chrome/80.0.3987.149 Safari/537.36\" --header \"Accept: text/html,application/xhtml+xml,application/xml;q=0.9,image/webp,image/apng,*/*;q=0.8,application/signed-exchange;v=b3;q=0.9\" --header \"Accept-Language: en-US,en;q=0.9\" --header \"Cookie: AUTH_54o58k3mrosb0ntis1d6ki80s5u2suja_nonce=an1gmni0poujk; NID=198=Ur67qjvAf1i-tnwiUIgNirKuT_vpDT-dQFBEpw1j-TqAwCLeMW_JiF4XgHk3lTe93MRbZ02lUdw5qfXH0Em0ewYTjs-dfoit2-G7LdsU167QVcVzy0GVGfPKjWniJ6ymSJxjYLcq1uc6NvhRyj-emsL0X13_WSAzTdiTHTsTQb0\" --header \"Connection: keep-alive\" \"https://doc-0k-6g-docs.googleusercontent.com/docs/securesc/lggtpbl23ghctm8snd2br4sbmhr20ifs/foacldgvepp7u9cotr6nrqoko3vh8n2g/1584733950000/09981225647225991988/09981225647225991988/1sCbqmVvxj0EacUoceZEv1EC_NME7ZEMF?e=download&h=11307479845000005816&authuser=0&nonce=an1gmni0poujk&user=09981225647225991988&hash=ttt49oojsrjkqdjp51g9348od17m0jdq\" -o \"corpus_embedding.pkl\" -L"
   ]
  },
  {
   "cell_type": "code",
   "execution_count": 6,
   "metadata": {},
   "outputs": [],
   "source": [
    "corpus_embeddings = pickle.load(open('corpus_embedding.pkl', 'rb'))"
   ]
  },
  {
   "cell_type": "code",
   "execution_count": 16,
   "metadata": {},
   "outputs": [],
   "source": [
    "#hide\n",
    "def ask_question(query):\n",
    "    queries = [query]\n",
    "    query_embeddings = embedder.encode(queries)\n",
    "\n",
    "    # Find the closest 5 sentences of the corpus for each query sentence based on cosine similarity\n",
    "    closest_n = 5\n",
    "\n",
    "    for query, query_embedding in zip(queries, query_embeddings):\n",
    "        distances = scipy.spatial.distance.cdist([query_embedding], corpus_embeddings, \"cosine\")[0]\n",
    "\n",
    "        results = zip(range(len(distances)), distances)\n",
    "        results = sorted(results, key=lambda x: x[1])\n",
    "        \n",
    "        i = 0\n",
    "        # get the closest answers\n",
    "        for idx, distance in results[0:closest_n]:\n",
    "            i += 1\n",
    "            print(\"\\n======================\\n\")        \n",
    "            print(f\"Answer {i}: \\n\", corpus[idx].strip(), \"(Score: %.4f)\" % (1-distance))"
   ]
  },
  {
   "cell_type": "markdown",
   "metadata": {},
   "source": [
    "#### Question 1: Does smoking or pre-existing pulmonary disease increase risk of COVID-19?"
   ]
  },
  {
   "cell_type": "code",
   "execution_count": 17,
   "metadata": {},
   "outputs": [
    {
     "name": "stdout",
     "output_type": "stream",
     "text": [
      "\n",
      "======================\n",
      "\n",
      "Answer 1: \n",
      " Among patients with cancer 7,8 , pulmonary diseases 5,9*11 , immunological conditions 8, 11, 12 , renal diseases 13 , or organ transplantation 8,14,15 corticosteroid therapy has been associated with increased risk of ON. Further, important lifestyle factors, including tobacco use 16, 17 and high alcohol consumption 16*18 may increase ON risk. (Score: 0.7884)\n",
      "\n",
      "======================\n",
      "\n",
      "Answer 2: \n",
      " The role of eosinophils in COPD and the mechanism of eosinophil influx into airways remain to be clarified. Hogg et al. 5 reported that eosinophils do exist in the small airways of various severity of COPD. In a prospective clinical observation, nearly one third of COPD patients had sputum eosinophilia and the number of eosinophils was significantly correlated to the level of exhaled nitric oxide 17 . The degree of eosinophilic inflammation has been related to early changes in lung function and smoking habits. The higher counts of eosinophils in induced sputum is associated with higher pack-years and lower peak expiratory flow 25%-75% values 18 . In a retrospective analysis, FEV 1 reversibility was weakly correlated with the sputum eosinophil level. Patients with FEV 1 >0.4 L and >15% increment had higher sputum eosinophil levels whereas the level did not differ when dichotomized by FEV 1 increment >0.2 L and >12% 19 . The response to corticosteroids in COPD patients were better in a subset of patients presenting with more eosinophils and higher levels of eosinophil cationic protein 20 , suggesting that corticosteroids may be effective especially for patients with COPD with eosinophilic airway inflammation 21, 22 . In addition, we had reported that inhaled fluticasone (200 µg/day) can significantly suppress the numbers of eosinophils in the airways of COPD. Suppression of such eosinophilic inflammation was not associated with improvement in lung function. Brightling et al. 23 also reported that the improvement in FEV 1 is not associated with a reduction in the sputum eosinophil count in COPD with sputum eosinophilia. (Score: 0.7834)\n",
      "\n",
      "======================\n",
      "\n",
      "Answer 3: \n",
      " Severe acute bronchiolitis experienced early in childhood is associated with an increased risk of asthma that may persist into early adulthood. 1 It remains to be elucidated whether bronchiolitis is the cause of lung injury that results in subsequent wheezing episodes and asthma development or whether there is an inherent predisposition to both acute bronchiolitis and latter asthma, with bronchiolitis being an early marker of this predisposition. Regardless of possible underlying lung morbidity, the major viral causes of acute bronchiolitis/first wheeze, RSV and RV, seem to have a different course in post-bronchiolitis asthma sequela. (Score: 0.7657)\n",
      "\n",
      "======================\n",
      "\n",
      "Answer 4: \n",
      " Chronic obstructive pulmonary disease (COPD) is a complex mix of signs and symptoms in patients with chronic bronchitis and emphysema that largely results from cigarette smoking [1] . Several lines of evidence strongly suggest that genetic factors influence COPD susceptibility as well; severe α1-antitrypsin deficiency is one of the proven genetic determinants of COPD [2] . Variants in several candidate genes have been significantly associated with COPD, suggesting an interaction between genetic and environmental influences [3] . (Score: 0.7584)\n",
      "\n",
      "======================\n",
      "\n",
      "Answer 5: \n",
      " Smoking is known to be a risk factor of invasive pneumococcal diseases even in young people who are not immunosuppressed [227] . Both direct and indirect smoking is a risk factor of community-acquired pneumonia [228, 229] . In addition, smoking is a risk factor of Legionella infections [230] . (Score: 0.7545)\n"
     ]
    }
   ],
   "source": [
    "ask_question('Does smoking or pre-existing pulmonary disease increase risk of COVID-19?')"
   ]
  },
  {
   "cell_type": "markdown",
   "metadata": {},
   "source": [
    "#### Question 2: Are neonates and pregnant women ar greater risk of COVID-19?"
   ]
  },
  {
   "cell_type": "code",
   "execution_count": 13,
   "metadata": {},
   "outputs": [
    {
     "name": "stdout",
     "output_type": "stream",
     "text": [
      "\n",
      "======================\n",
      "\n",
      "Answer 1: \n",
      " Newborns are considered at high risk of COVID-19 in case that they are born to mothers diagnosed with COVID-19, or have close contact with someone with probable or confirmed COVID-19, or live in or travel to the epidemic area. Clinical manifestations of infected neonates, especially preterm infants, might be nonspecific, which might include temperature instability, gastrointestinal and cardiovascular dysfunction, and dominant respiratory problems. Some severe patients could rapidly develop acute respiratory distress syndrome. All infants with suspected COVID-19 should be isolated and monitored regardless of whether or not they present with symptoms. Diagnosis of neonatal COVID-19 could be confirmed if the suspected patients have positive nucleic acid test for COVID-19 from the respiratory tract, stool or blood specimens. 4 Infants with highly suspected or confirmed COVID-19 should be referred to the designated neonatal ward. All medical staff involved should wear protective equipment. The neonatal department should be strictly stratified into transitional, quarantine, living and work areas. Infants with suspected infection should be isolated in a single room, while confirmed patients should be moved into separate rooms. The quarantine room should be equipped with an isolated air cycle system. Due to the strong infectivity of COVID-19, negative pressure isolation rooms are recommended. (Score: 0.7704)\n",
      "\n",
      "======================\n",
      "\n",
      "Answer 1: \n",
      " Pregnant women are conventionally considered a high-risk group for the progression to severe disease or death, and a case was reported of stillbirth in the second trimester of pregnancy for a woman infected with MERS-CoV [27] . Of the antiviral drugs recommended, ribavirin is in Category X for safety in pregnant women, while lopinavir/ritonavir and type 1 interferon are in Category C. Given the lack of clinical studies on antiviral treatment in pregnant women, it is difficult to recommend these drugs. Considering the physiological adaptations to pregnancy in pregnant women, conservative treatment should be provided [28] . When treating pregnant women infected with human immunodeficiency virus (HIV), the preferred protease inhibitor is lopinavir/ritonavir [29] . Among type 1 interferons, there is evidence supporting the safe use of interferon-β1a, which is used to treat multiple sclerosis, in pregnant women. Although one report showed that the incidence of spontaneous abortion increased in pregnant women who used interferon-β1a, there was no statistically significant difference with the incidence in control individuals [30, 31] . Therefore, the use of antiviral drugs can be considered after a comparison of risks and benefits of the drugs. Possible antiviral treatment would be combination therapy with interferon-β1a and lopinavir/tironavir, but there is no case report of this being used in pregnant women with MERS. Any decision to use antiviral drugs requires the consideration of ethical issues and a consultation with an obstetric specialist. (Score: 0.7427)\n",
      "\n",
      "======================\n",
      "\n",
      "Answer 1: \n",
      " Stephanie Vijan 1 , Katarzyna Dembek 2 , Steven Reed 3 , Nathan Slovis 4 , Ramiro Toribio 5 Septicemia is the leading cause of mortality in newborn foals. Progesterone is mainly known for its role in pregnancy; however, it is also a precursor to adrenocortical and neuroactive steroids and likely plays important functions in equine neonates. Human studies have demonstrated that progesterone modulates immunity and predisposes to inflammatory conditions. However, the mechanisms by which progesterone influences outcomes in sick foals remain unclear. The goal of our study was to measure blood concentrations of inflammatory cytokines and serum amyloid A (SAA) in healthy and hospitalized foals, and to determine their association with progesterone, severity of disease, and mortality. We hypothesized that hospitalized foals will have higher progesterone, 17 α -hydroxyprogesterone and cortisol concentrations that will be associated with the inflammatory response, disease severity and mortality. Foals (n = 62) were divided into three groups based on severity of disease (septic [n = 31], sick non-septic [SNS; n = 21], and healthy [n = 10]), and hospitalized foals (SNS and septic) were divided into two groups based on survival (survivors and non-survivors). Blood samples were collected on admission. Hormones were measured by radioimmunoassay, and cytokines by ELISA. (Score: 0.7427)\n",
      "\n",
      "======================\n",
      "\n",
      "Answer 1: \n",
      " In the cases classified as confirmed during the pandemic influenza, we have noted a slight increase in the proportion of pregnant women who present comorbidities when compared with the general population, and in the case-fatality rate in pregnant women and also in the general population (4.04%). The severity of infection by the the influenza virus in pregnant women may be related to alterations that the gestational process triggers in women, such as the overburden of the circulation, as well as of the respiratory and immunologic systems. This group is submitted to additional care, as they routinely present better adherence to the services, including the prenatal care. As a consequence, the greater attention of health professionals regarding pregnant women may contribute to a better detection of suspected and confirmed cases leading to lower complication rates, hospitalizations and mortality in this group. (Score: 0.7420)\n",
      "\n",
      "======================\n",
      "\n",
      "Answer 1: \n",
      " It is concluded that cardiac structure and function varied during normal pregnancy in these queens. Cardiac eccentric hypertrophy, systolic function and cardiac output increases appear to be the consequences of the hemodynamic modifications occurring during pregnancy. The assessment of maternal cardiovascular function may prove a useful screening tool to detect pregnancy complications in feline reproduction. (Score: 0.7397)\n"
     ]
    }
   ],
   "source": [
    "ask_question('Are neonates and pregnant women ar greater risk of COVID-19?')"
   ]
  },
  {
   "cell_type": "markdown",
   "metadata": {},
   "source": [
    "#### Question3: Severity of disease, including risk of fatality among symptomatic hospitalized patients, and high-risk patient groups"
   ]
  },
  {
   "cell_type": "code",
   "execution_count": 10,
   "metadata": {},
   "outputs": [
    {
     "name": "stdout",
     "output_type": "stream",
     "text": [
      "\n",
      "======================\n",
      "\n",
      "Answer 62769: \n",
      " In outbreaks of infectious disease, healthcare personnel (HCP) are at increased risk of contracting emerging infections in the process of patient care [1, 2] . (Score: 0.8333)\n",
      "\n",
      "======================\n",
      "\n",
      "Answer 1633: \n",
      " High morbidity and mortality in influenza are seen especially among those at the extremes of age (elderly and very young), those with underlying health conditions and pregnant women. 29 Underlying health conditions especially associated with an increased risk for complicated influenza are immunecompromised individuals, either due to the underlying disease, or to immunomodulatory treatment, like organ transplant recipients and those taking medication for autoimmune conditions. 30 Furthermore, chronic pulmonary disease 31 , diabetes mellitus, cardiovascular disease and malignancies are also considered risk factors for developing severe influenza or complications. 32 Impact on Travellers Even a relatively mild, self-limiting seasonal influenza virus infection can have drastic impact on the success of a holiday or business trip. Furthermore, travel of athletes to international contests and artists to performances abroad or social gatherings like weddings can be ruined by influenza. Among the wellrecognized examples spread through the media are the German national football team and coach during the 2010 World Cup in South Africa and a famous rock star of a concert that had to be cancelled as he got influenza. [33] [34] [35] A large study of influenza virus infection in persons travelling to tropical and sub-tropical countries found that 1.1% of the travellers enrolled in the study seroconverted and that 40% of those who seroconverted had sought medical attention during their travel: a highly significant number. 25 Influenza virus infections were acquired largely from Asia (47.5%), Africa (27.5%) and Latin America (25%). 25 It is important to note that, independent of travel, seasonal influenza outbreaks have been repeatedly associated with poor outcomes even in patients without co-morbidities: including small numbers who develop severe and even lethal influenza as well as life-threatening complications. Examples include patients with severe viral pneumonia, acute respiratory distress syndrome (ARDS), post-influenza Staphylococcus aureus infection with a potential Methicillin-resistant S. aureus infection or rare examples of myocarditis and encephalitis. 32, 36, 37 It is now generally accepted that even healthy individuals have a low but important risk of developing severe influenza-associated disease. 2 Furthermore, there is a significant economic burden of seasonal influenza due to sick leave, medical care and medication. Unexpected medical events while travelling can be particularly expensive. (Score: 0.8070)\n",
      "\n",
      "======================\n",
      "\n",
      "Answer 45868: \n",
      " Asthma is a chronic condition of public health concern associated with morbidity, mortality and healthcare utilisation. It disproportionately affects certain ethnic and demographic groups. (Score: 0.8052)\n",
      "\n",
      "======================\n",
      "\n",
      "Answer 14306: \n",
      " P. aeruginosa infections in severe AECOPD are difficult to treat, and secondary problems often arise. P. aeruginosa infections occur mainly in high-risk patients. In severe AECOPD, P. aeruginosa infections mean poor prognosis and an increased rate of readmission. (Score: 0.7992)\n",
      "\n",
      "======================\n",
      "\n",
      "Answer 41885: \n",
      " Acute respiratory tract infection (ARTI) is the most common causes of outpatient visit and hospital admission for children. [1] The severity of the ARTI varies substantially depending on the site of infection, the type of viruses, involved organs and comorbidities. [2] For example, viral pneumonia can be life threatening due to uncontrolled systematic inflammatory response, leading to septic shock, acute respiratory distress syndrome (ARDS) and multiple organ failure. [3] [4] [5] These later conditions require intensive care unit admission, and are associated with significantly increased risk of death, high medical cost and family distress. [4] It was estimated that there were approximately 1.9 million children died annually from ARTI, and most of them were from developing countries. [6] The type of respiratory viruses is very important for the understanding of the underlying pathogenesis of respiratory infections in children. A recent epidemiological study involving 17 centers and 8 countries showed that rhinovirus/enterovirus (41.5%) is the most prevalent viruses causing children's respiratory infection, followed by influenza (15.8%), adenovirus (9.8%), parainfluenza, and respiratory syncytial virus (RSV) (both 9.7%). [7] China is a country with the largest population in the world. With the implementation of 2-child policy, the children's hospitals in China are facing great challenge to treat increasing number of children. ARTI is the most common reason for outpatient visit and hospital admission in China, [8] imposing a great challenge for clinicians. Throat swab and sputum samples are usually ordered for children with suspected ARTI and the number is very large. [9, 10] However, there is no study reporting epidemiological data on test results of respiratory viruses. The study aimed to report epidemiological data on respiratory viruses in a university-affiliated children's hospital. Furthermore, we investigated distributions of different types of respiratory viruses with seasonal changes. Risk factors for positive results for adenovirus, influenza A, influenza B, and respiratory syncytial virus (RSV) were also investigated. (Score: 0.7992)\n"
     ]
    }
   ],
   "source": [
    "ask_question('Severity of disease, including risk of fatality among symptomatic hospitalized patients, and high-risk patient groups')"
   ]
  },
  {
   "cell_type": "markdown",
   "metadata": {},
   "source": [
    "#### Question 4: Socio-economic and behavioral factors to understand the economic impact of the virus and whether there were differences."
   ]
  },
  {
   "cell_type": "code",
   "execution_count": null,
   "metadata": {},
   "outputs": [],
   "source": [
    "ask_question('Socio-economic and behavioral factors to understand the economic impact of the virus and whether there were differences.')"
   ]
  },
  {
   "cell_type": "markdown",
   "metadata": {},
   "source": [
    "#### Question 5: Severity of disease, including risk of fatality among symptomatic hospitalized patients, and high-risk patient groups"
   ]
  },
  {
   "cell_type": "code",
   "execution_count": null,
   "metadata": {},
   "outputs": [],
   "source": [
    "ask_question('Severity of disease, including risk of fatality among symptomatic hospitalized patients, and high-risk patient groups')"
   ]
  },
  {
   "cell_type": "markdown",
   "metadata": {},
   "source": [
    "# Ask your own question"
   ]
  },
  {
   "cell_type": "code",
   "execution_count": null,
   "metadata": {},
   "outputs": [],
   "source": [
    "from ipywidgets import interact"
   ]
  },
  {
   "cell_type": "code",
   "execution_count": null,
   "metadata": {},
   "outputs": [],
   "source": [
    "interact(ask_question, query='')"
   ]
  },
  {
   "cell_type": "code",
   "execution_count": null,
   "metadata": {},
   "outputs": [],
   "source": []
  }
 ],
 "metadata": {
  "kernelspec": {
   "display_name": "fastai2",
   "language": "python",
   "name": "fastai2"
  },
  "language_info": {
   "codemirror_mode": {
    "name": "ipython",
    "version": 3
   },
   "file_extension": ".py",
   "mimetype": "text/x-python",
   "name": "python",
   "nbconvert_exporter": "python",
   "pygments_lexer": "ipython3",
   "version": "3.7.5"
  }
 },
 "nbformat": 4,
 "nbformat_minor": 4
}
